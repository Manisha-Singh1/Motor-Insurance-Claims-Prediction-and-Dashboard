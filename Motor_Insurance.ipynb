{
 "cells": [
  {
   "cell_type": "code",
   "execution_count": null,
   "id": "89f626af-be6b-4bd6-85b5-173c0ee21758",
   "metadata": {},
   "outputs": [],
   "source": []
  },
  {
   "cell_type": "code",
   "execution_count": null,
   "id": "18f777eb-dccb-4f63-a9ac-a304721f47ef",
   "metadata": {},
   "outputs": [],
   "source": []
  },
  {
   "cell_type": "code",
   "execution_count": 1,
   "id": "e1c0cf54-5803-424f-bac0-94c85abe56f9",
   "metadata": {},
   "outputs": [],
   "source": [
    "import pandas as pd\n",
    "import numpy as ny\n",
    "import matplotlib.pyplot as plt\n",
    "import seaborn as sns"
   ]
  },
  {
   "cell_type": "code",
   "execution_count": 2,
   "id": "733633dc-4885-45bf-b149-28607e429014",
   "metadata": {},
   "outputs": [],
   "source": [
    "file_path= r\"C:\\Users\\lenovo\\Desktop\\Motor Insurance Dataset.csv\" "
   ]
  },
  {
   "cell_type": "code",
   "execution_count": 3,
   "id": "2233cf2f-65d8-47be-9a6d-69b3a4888883",
   "metadata": {},
   "outputs": [],
   "source": [
    "data=pd.read_csv(file_path)"
   ]
  },
  {
   "cell_type": "code",
   "execution_count": 4,
   "id": "b20bbfca-6a01-458b-aada-1ff0048a8a9d",
   "metadata": {},
   "outputs": [
    {
     "name": "stdout",
     "output_type": "stream",
     "text": [
      "<class 'pandas.core.frame.DataFrame'>\n",
      "RangeIndex: 678013 entries, 0 to 678012\n",
      "Data columns (total 12 columns):\n",
      " #   Column      Non-Null Count   Dtype  \n",
      "---  ------      --------------   -----  \n",
      " 0   IDpol       678013 non-null  float64\n",
      " 1   ClaimNb     678013 non-null  int64  \n",
      " 2   Exposure    678013 non-null  float64\n",
      " 3   Area        678013 non-null  object \n",
      " 4   VehPower    678013 non-null  int64  \n",
      " 5   VehAge      678013 non-null  int64  \n",
      " 6   DrivAge     678013 non-null  int64  \n",
      " 7   BonusMalus  678013 non-null  int64  \n",
      " 8   VehBrand    678013 non-null  object \n",
      " 9   VehGas      678013 non-null  object \n",
      " 10  Density     678013 non-null  int64  \n",
      " 11  Region      678013 non-null  object \n",
      "dtypes: float64(2), int64(6), object(4)\n",
      "memory usage: 62.1+ MB\n",
      "None\n"
     ]
    }
   ],
   "source": [
    "print(data.info())"
   ]
  },
  {
   "cell_type": "code",
   "execution_count": 5,
   "id": "cf2b49b3-a995-4563-bf85-e88c377cc62d",
   "metadata": {},
   "outputs": [
    {
     "name": "stdout",
     "output_type": "stream",
     "text": [
      "   IDpol  ClaimNb  Exposure Area  VehPower  VehAge  DrivAge  BonusMalus  \\\n",
      "0    1.0        1      0.10    D         5       0       55          50   \n",
      "1    3.0        1      0.77    D         5       0       55          50   \n",
      "2    5.0        1      0.75    B         6       2       52          50   \n",
      "3   10.0        1      0.09    B         7       0       46          50   \n",
      "4   11.0        1      0.84    B         7       0       46          50   \n",
      "\n",
      "  VehBrand   VehGas  Density Region  \n",
      "0      B12  Regular     1217    R82  \n",
      "1      B12  Regular     1217    R82  \n",
      "2      B12   Diesel       54    R22  \n",
      "3      B12   Diesel       76    R72  \n",
      "4      B12   Diesel       76    R72  \n"
     ]
    }
   ],
   "source": [
    "print(data.head())"
   ]
  },
  {
   "cell_type": "code",
   "execution_count": 6,
   "id": "cd8c34a6-d8e2-48e4-b417-dee11c9c5a25",
   "metadata": {},
   "outputs": [
    {
     "data": {
      "text/html": [
       "<div>\n",
       "<style scoped>\n",
       "    .dataframe tbody tr th:only-of-type {\n",
       "        vertical-align: middle;\n",
       "    }\n",
       "\n",
       "    .dataframe tbody tr th {\n",
       "        vertical-align: top;\n",
       "    }\n",
       "\n",
       "    .dataframe thead th {\n",
       "        text-align: right;\n",
       "    }\n",
       "</style>\n",
       "<table border=\"1\" class=\"dataframe\">\n",
       "  <thead>\n",
       "    <tr style=\"text-align: right;\">\n",
       "      <th></th>\n",
       "      <th>IDpol</th>\n",
       "      <th>ClaimNb</th>\n",
       "      <th>Exposure</th>\n",
       "      <th>VehPower</th>\n",
       "      <th>VehAge</th>\n",
       "      <th>DrivAge</th>\n",
       "      <th>BonusMalus</th>\n",
       "      <th>Density</th>\n",
       "    </tr>\n",
       "  </thead>\n",
       "  <tbody>\n",
       "    <tr>\n",
       "      <th>count</th>\n",
       "      <td>6.780130e+05</td>\n",
       "      <td>678013.000000</td>\n",
       "      <td>678013.000000</td>\n",
       "      <td>678013.000000</td>\n",
       "      <td>678013.000000</td>\n",
       "      <td>678013.000000</td>\n",
       "      <td>678013.000000</td>\n",
       "      <td>678013.000000</td>\n",
       "    </tr>\n",
       "    <tr>\n",
       "      <th>mean</th>\n",
       "      <td>2.621857e+06</td>\n",
       "      <td>0.053247</td>\n",
       "      <td>0.528750</td>\n",
       "      <td>6.454631</td>\n",
       "      <td>7.044265</td>\n",
       "      <td>45.499122</td>\n",
       "      <td>59.761502</td>\n",
       "      <td>1792.422405</td>\n",
       "    </tr>\n",
       "    <tr>\n",
       "      <th>std</th>\n",
       "      <td>1.641783e+06</td>\n",
       "      <td>0.240117</td>\n",
       "      <td>0.364442</td>\n",
       "      <td>2.050906</td>\n",
       "      <td>5.666232</td>\n",
       "      <td>14.137444</td>\n",
       "      <td>15.636658</td>\n",
       "      <td>3958.646564</td>\n",
       "    </tr>\n",
       "    <tr>\n",
       "      <th>min</th>\n",
       "      <td>1.000000e+00</td>\n",
       "      <td>0.000000</td>\n",
       "      <td>0.002732</td>\n",
       "      <td>4.000000</td>\n",
       "      <td>0.000000</td>\n",
       "      <td>18.000000</td>\n",
       "      <td>50.000000</td>\n",
       "      <td>1.000000</td>\n",
       "    </tr>\n",
       "    <tr>\n",
       "      <th>25%</th>\n",
       "      <td>1.157951e+06</td>\n",
       "      <td>0.000000</td>\n",
       "      <td>0.180000</td>\n",
       "      <td>5.000000</td>\n",
       "      <td>2.000000</td>\n",
       "      <td>34.000000</td>\n",
       "      <td>50.000000</td>\n",
       "      <td>92.000000</td>\n",
       "    </tr>\n",
       "    <tr>\n",
       "      <th>50%</th>\n",
       "      <td>2.272152e+06</td>\n",
       "      <td>0.000000</td>\n",
       "      <td>0.490000</td>\n",
       "      <td>6.000000</td>\n",
       "      <td>6.000000</td>\n",
       "      <td>44.000000</td>\n",
       "      <td>50.000000</td>\n",
       "      <td>393.000000</td>\n",
       "    </tr>\n",
       "    <tr>\n",
       "      <th>75%</th>\n",
       "      <td>4.046274e+06</td>\n",
       "      <td>0.000000</td>\n",
       "      <td>0.990000</td>\n",
       "      <td>7.000000</td>\n",
       "      <td>11.000000</td>\n",
       "      <td>55.000000</td>\n",
       "      <td>64.000000</td>\n",
       "      <td>1658.000000</td>\n",
       "    </tr>\n",
       "    <tr>\n",
       "      <th>max</th>\n",
       "      <td>6.114330e+06</td>\n",
       "      <td>16.000000</td>\n",
       "      <td>2.010000</td>\n",
       "      <td>15.000000</td>\n",
       "      <td>100.000000</td>\n",
       "      <td>100.000000</td>\n",
       "      <td>230.000000</td>\n",
       "      <td>27000.000000</td>\n",
       "    </tr>\n",
       "  </tbody>\n",
       "</table>\n",
       "</div>"
      ],
      "text/plain": [
       "              IDpol        ClaimNb       Exposure       VehPower  \\\n",
       "count  6.780130e+05  678013.000000  678013.000000  678013.000000   \n",
       "mean   2.621857e+06       0.053247       0.528750       6.454631   \n",
       "std    1.641783e+06       0.240117       0.364442       2.050906   \n",
       "min    1.000000e+00       0.000000       0.002732       4.000000   \n",
       "25%    1.157951e+06       0.000000       0.180000       5.000000   \n",
       "50%    2.272152e+06       0.000000       0.490000       6.000000   \n",
       "75%    4.046274e+06       0.000000       0.990000       7.000000   \n",
       "max    6.114330e+06      16.000000       2.010000      15.000000   \n",
       "\n",
       "              VehAge        DrivAge     BonusMalus        Density  \n",
       "count  678013.000000  678013.000000  678013.000000  678013.000000  \n",
       "mean        7.044265      45.499122      59.761502    1792.422405  \n",
       "std         5.666232      14.137444      15.636658    3958.646564  \n",
       "min         0.000000      18.000000      50.000000       1.000000  \n",
       "25%         2.000000      34.000000      50.000000      92.000000  \n",
       "50%         6.000000      44.000000      50.000000     393.000000  \n",
       "75%        11.000000      55.000000      64.000000    1658.000000  \n",
       "max       100.000000     100.000000     230.000000   27000.000000  "
      ]
     },
     "execution_count": 6,
     "metadata": {},
     "output_type": "execute_result"
    }
   ],
   "source": [
    "data.describe()"
   ]
  },
  {
   "cell_type": "code",
   "execution_count": 7,
   "id": "43031c3f-46e2-404e-b0c1-ace0cd9c30fc",
   "metadata": {},
   "outputs": [
    {
     "name": "stdout",
     "output_type": "stream",
     "text": [
      "Missing Values:\n",
      " Series([], dtype: int64)\n"
     ]
    }
   ],
   "source": [
    "missing_values = data.isnull().sum()\n",
    "print(\"Missing Values:\\n\", missing_values[missing_values > 0])"
   ]
  },
  {
   "cell_type": "code",
   "execution_count": 8,
   "id": "07433a67-ac48-4acf-8bff-de6dbed827f2",
   "metadata": {},
   "outputs": [
    {
     "name": "stdout",
     "output_type": "stream",
     "text": [
      "Categorical Columns: Index(['Area', 'VehBrand', 'VehGas', 'Region'], dtype='object')\n"
     ]
    }
   ],
   "source": [
    "categorical_columns = data.select_dtypes(include=['object']).columns\n",
    "print(\"Categorical Columns:\", categorical_columns)"
   ]
  },
  {
   "cell_type": "code",
   "execution_count": 9,
   "id": "c1e2184c-afa0-464a-81a8-11001a39638c",
   "metadata": {},
   "outputs": [],
   "source": [
    "# Perform one-hot encoding for categorical variables\n",
    "data = pd.get_dummies(data, columns=['Area', 'VehBrand', 'VehGas', 'Region'], drop_first=True)\n"
   ]
  },
  {
   "cell_type": "code",
   "execution_count": 10,
   "id": "1cf0aa00-4217-4dea-b265-c2dba7b8bc98",
   "metadata": {},
   "outputs": [
    {
     "name": "stdout",
     "output_type": "stream",
     "text": [
      "<class 'pandas.core.frame.DataFrame'>\n",
      "RangeIndex: 678013 entries, 0 to 678012\n",
      "Data columns (total 45 columns):\n",
      " #   Column          Non-Null Count   Dtype  \n",
      "---  ------          --------------   -----  \n",
      " 0   IDpol           678013 non-null  float64\n",
      " 1   ClaimNb         678013 non-null  int64  \n",
      " 2   Exposure        678013 non-null  float64\n",
      " 3   VehPower        678013 non-null  int64  \n",
      " 4   VehAge          678013 non-null  int64  \n",
      " 5   DrivAge         678013 non-null  int64  \n",
      " 6   BonusMalus      678013 non-null  int64  \n",
      " 7   Density         678013 non-null  int64  \n",
      " 8   Area_B          678013 non-null  bool   \n",
      " 9   Area_C          678013 non-null  bool   \n",
      " 10  Area_D          678013 non-null  bool   \n",
      " 11  Area_E          678013 non-null  bool   \n",
      " 12  Area_F          678013 non-null  bool   \n",
      " 13  VehBrand_B10    678013 non-null  bool   \n",
      " 14  VehBrand_B11    678013 non-null  bool   \n",
      " 15  VehBrand_B12    678013 non-null  bool   \n",
      " 16  VehBrand_B13    678013 non-null  bool   \n",
      " 17  VehBrand_B14    678013 non-null  bool   \n",
      " 18  VehBrand_B2     678013 non-null  bool   \n",
      " 19  VehBrand_B3     678013 non-null  bool   \n",
      " 20  VehBrand_B4     678013 non-null  bool   \n",
      " 21  VehBrand_B5     678013 non-null  bool   \n",
      " 22  VehBrand_B6     678013 non-null  bool   \n",
      " 23  VehGas_Regular  678013 non-null  bool   \n",
      " 24  Region_R21      678013 non-null  bool   \n",
      " 25  Region_R22      678013 non-null  bool   \n",
      " 26  Region_R23      678013 non-null  bool   \n",
      " 27  Region_R24      678013 non-null  bool   \n",
      " 28  Region_R25      678013 non-null  bool   \n",
      " 29  Region_R26      678013 non-null  bool   \n",
      " 30  Region_R31      678013 non-null  bool   \n",
      " 31  Region_R41      678013 non-null  bool   \n",
      " 32  Region_R42      678013 non-null  bool   \n",
      " 33  Region_R43      678013 non-null  bool   \n",
      " 34  Region_R52      678013 non-null  bool   \n",
      " 35  Region_R53      678013 non-null  bool   \n",
      " 36  Region_R54      678013 non-null  bool   \n",
      " 37  Region_R72      678013 non-null  bool   \n",
      " 38  Region_R73      678013 non-null  bool   \n",
      " 39  Region_R74      678013 non-null  bool   \n",
      " 40  Region_R82      678013 non-null  bool   \n",
      " 41  Region_R83      678013 non-null  bool   \n",
      " 42  Region_R91      678013 non-null  bool   \n",
      " 43  Region_R93      678013 non-null  bool   \n",
      " 44  Region_R94      678013 non-null  bool   \n",
      "dtypes: bool(37), float64(2), int64(6)\n",
      "memory usage: 65.3 MB\n",
      "None\n"
     ]
    }
   ],
   "source": [
    "# Confirm new columns added\n",
    "print(data.info())"
   ]
  },
  {
   "cell_type": "code",
   "execution_count": 11,
   "id": "e70d68b2-bf65-4059-8ecf-cbc46d302845",
   "metadata": {},
   "outputs": [
    {
     "name": "stdout",
     "output_type": "stream",
     "text": [
      "            Exposure       VehPower         VehAge        DrivAge  \\\n",
      "count  678013.000000  678013.000000  678013.000000  678013.000000   \n",
      "mean        0.262057       0.223148       0.070443       0.335355   \n",
      "std         0.181561       0.186446       0.056662       0.172408   \n",
      "min         0.000000       0.000000       0.000000       0.000000   \n",
      "25%         0.088313       0.090909       0.020000       0.195122   \n",
      "50%         0.242752       0.181818       0.060000       0.317073   \n",
      "75%         0.491847       0.272727       0.110000       0.451220   \n",
      "max         1.000000       1.000000       1.000000       1.000000   \n",
      "\n",
      "             Density  \n",
      "count  678013.000000  \n",
      "mean        0.066351  \n",
      "std         0.146622  \n",
      "min         0.000000  \n",
      "25%         0.003370  \n",
      "50%         0.014519  \n",
      "75%         0.061373  \n",
      "max         1.000000  \n"
     ]
    }
   ],
   "source": [
    "from sklearn.preprocessing import MinMaxScaler\n",
    "\n",
    "# Columns to normalize\n",
    "numerical_columns = ['Exposure', 'VehPower', 'VehAge', 'DrivAge', 'Density']\n",
    "scaler = MinMaxScaler()\n",
    "\n",
    "# Apply scaling\n",
    "data[numerical_columns] = scaler.fit_transform(data[numerical_columns])\n",
    "\n",
    "# Confirm scaling\n",
    "print(data[numerical_columns].describe())\n"
   ]
  },
  {
   "cell_type": "code",
   "execution_count": 12,
   "id": "ef8996f9-3284-481e-9d7d-2cbb058ec0bc",
   "metadata": {},
   "outputs": [
    {
     "name": "stdout",
     "output_type": "stream",
     "text": [
      "Claim\n",
      "0    643953\n",
      "1     34060\n",
      "Name: count, dtype: int64\n"
     ]
    }
   ],
   "source": [
    "# Create a binary target variable\n",
    "data['Claim'] = data['ClaimNb'].apply(lambda x: 1 if x > 0 else 0)\n",
    "\n",
    "# Drop the original ClaimNb column\n",
    "data.drop('ClaimNb', axis=1, inplace=True)\n",
    "\n",
    "# Confirm changes\n",
    "print(data['Claim'].value_counts())\n"
   ]
  },
  {
   "cell_type": "code",
   "execution_count": 13,
   "id": "53664993-12a8-4177-af47-c96cc4c7fe05",
   "metadata": {
    "scrolled": true
   },
   "outputs": [
    {
     "name": "stdout",
     "output_type": "stream",
     "text": [
      "Remaining Columns:\n",
      " Index(['Exposure', 'VehPower', 'VehAge', 'DrivAge', 'BonusMalus', 'Density',\n",
      "       'Area_B', 'Area_C', 'Area_D', 'Area_E', 'Area_F', 'VehBrand_B10',\n",
      "       'VehBrand_B11', 'VehBrand_B12', 'VehBrand_B13', 'VehBrand_B14',\n",
      "       'VehBrand_B2', 'VehBrand_B3', 'VehBrand_B4', 'VehBrand_B5',\n",
      "       'VehBrand_B6', 'VehGas_Regular', 'Region_R21', 'Region_R22',\n",
      "       'Region_R23', 'Region_R24', 'Region_R25', 'Region_R26', 'Region_R31',\n",
      "       'Region_R41', 'Region_R42', 'Region_R43', 'Region_R52', 'Region_R53',\n",
      "       'Region_R54', 'Region_R72', 'Region_R73', 'Region_R74', 'Region_R82',\n",
      "       'Region_R83', 'Region_R91', 'Region_R93', 'Region_R94', 'Claim'],\n",
      "      dtype='object')\n"
     ]
    }
   ],
   "source": [
    "# Drop irrelevant columns (e.g., IDpol)\n",
    "data.drop(['IDpol'], axis=1, inplace=True)\n",
    "\n",
    "# Confirm the updated columns\n",
    "print(\"Remaining Columns:\\n\", data.columns)\n"
   ]
  },
  {
   "cell_type": "code",
   "execution_count": 14,
   "id": "9a2c610c-cc9d-4938-a3b3-f0ef44ebe9aa",
   "metadata": {},
   "outputs": [
    {
     "name": "stdout",
     "output_type": "stream",
     "text": [
      "Cleaned dataset saved at: C:\\Users\\lenovo\\Desktop\\cleaned_motor_insurance.csv\n"
     ]
    }
   ],
   "source": [
    "# Save the cleaned dataset\n",
    "cleaned_file_path = r'C:\\Users\\lenovo\\Desktop\\cleaned_motor_insurance.csv'\n",
    "data.to_csv(cleaned_file_path, index=False)\n",
    "\n",
    "print(f\"Cleaned dataset saved at: {cleaned_file_path}\")\n"
   ]
  },
  {
   "cell_type": "code",
   "execution_count": 15,
   "id": "0bdfafcb-61da-490a-89d6-33473e94b76f",
   "metadata": {},
   "outputs": [
    {
     "name": "stdout",
     "output_type": "stream",
     "text": [
      "Class Distribution After Balancing: Counter({1: 643953, 0: 643953})\n"
     ]
    }
   ],
   "source": [
    "from imblearn.over_sampling import SMOTE\n",
    "\n",
    "# Define features (X) and target (y)\n",
    "X = data.drop('Claim', axis=1)\n",
    "y = data['Claim']\n",
    "\n",
    "# Apply SMOTE to balance the classes\n",
    "smote = SMOTE(random_state=42)\n",
    "X_balanced, y_balanced = smote.fit_resample(X, y)\n",
    "\n",
    "# Check the new class distribution\n",
    "from collections import Counter\n",
    "print(\"Class Distribution After Balancing:\", Counter(y_balanced))\n"
   ]
  },
  {
   "cell_type": "code",
   "execution_count": 16,
   "id": "a49a7e50-7a0d-44b1-86d5-88f8b2813845",
   "metadata": {},
   "outputs": [
    {
     "name": "stdout",
     "output_type": "stream",
     "text": [
      "Balanced Features Shape: (1287906, 43)\n",
      "Balanced Target Shape: (1287906,)\n"
     ]
    }
   ],
   "source": [
    "# Display the shapes of the balanced dataset\n",
    "print(\"Balanced Features Shape:\", X_balanced.shape)\n",
    "print(\"Balanced Target Shape:\", y_balanced.shape)\n",
    "\n"
   ]
  },
  {
   "cell_type": "code",
   "execution_count": 17,
   "id": "c5873521-65d1-4a02-87bd-1aed526f1283",
   "metadata": {},
   "outputs": [
    {
     "name": "stdout",
     "output_type": "stream",
     "text": [
      "Training Data Shape: (1030324, 43)\n",
      "Testing Data Shape: (257582, 43)\n"
     ]
    }
   ],
   "source": [
    "from sklearn.model_selection import train_test_split\n",
    "\n",
    "# Split into training and testing sets\n",
    "X_train, X_test, y_train, y_test = train_test_split(X_balanced, y_balanced, test_size=0.2, random_state=42)\n",
    "\n",
    "# Confirm the shapes of the datasets\n",
    "print(\"Training Data Shape:\", X_train.shape)\n",
    "print(\"Testing Data Shape:\", X_test.shape)\n"
   ]
  },
  {
   "cell_type": "markdown",
   "id": "65db37d7-54b6-4509-bcc7-7b5e25163638",
   "metadata": {},
   "source": [
    "# Logistic Regression"
   ]
  },
  {
   "cell_type": "code",
   "execution_count": 19,
   "id": "6ea8223a-3c73-4c58-a470-5d390577516d",
   "metadata": {},
   "outputs": [],
   "source": [
    "from sklearn.linear_model import LogisticRegression\n",
    "from sklearn.metrics import classification_report, confusion_matrix, roc_auc_score\n"
   ]
  },
  {
   "cell_type": "code",
   "execution_count": 20,
   "id": "320a6c37-56b2-4723-8a4d-6d7a1f451f32",
   "metadata": {},
   "outputs": [
    {
     "name": "stdout",
     "output_type": "stream",
     "text": [
      "Logistic Regression training complete.\n"
     ]
    },
    {
     "name": "stderr",
     "output_type": "stream",
     "text": [
      "C:\\ProgramData\\anaconda3\\Lib\\site-packages\\sklearn\\linear_model\\_logistic.py:469: ConvergenceWarning: lbfgs failed to converge (status=1):\n",
      "STOP: TOTAL NO. of ITERATIONS REACHED LIMIT.\n",
      "\n",
      "Increase the number of iterations (max_iter) or scale the data as shown in:\n",
      "    https://scikit-learn.org/stable/modules/preprocessing.html\n",
      "Please also refer to the documentation for alternative solver options:\n",
      "    https://scikit-learn.org/stable/modules/linear_model.html#logistic-regression\n",
      "  n_iter_i = _check_optimize_result(\n"
     ]
    }
   ],
   "source": [
    "# Initialize and train Logistic Regression\n",
    "logistic_model = LogisticRegression(random_state=42)\n",
    "logistic_model.fit(X_train, y_train)\n",
    "\n",
    "print(\"Logistic Regression training complete.\")\n"
   ]
  },
  {
   "cell_type": "code",
   "execution_count": 21,
   "id": "bdae76e9-3de3-4722-af34-7d3fc1f923fa",
   "metadata": {},
   "outputs": [
    {
     "name": "stdout",
     "output_type": "stream",
     "text": [
      "Logistic Regression training complete after increasing max_iter.\n"
     ]
    },
    {
     "name": "stderr",
     "output_type": "stream",
     "text": [
      "C:\\ProgramData\\anaconda3\\Lib\\site-packages\\sklearn\\linear_model\\_logistic.py:469: ConvergenceWarning: lbfgs failed to converge (status=1):\n",
      "STOP: TOTAL NO. of ITERATIONS REACHED LIMIT.\n",
      "\n",
      "Increase the number of iterations (max_iter) or scale the data as shown in:\n",
      "    https://scikit-learn.org/stable/modules/preprocessing.html\n",
      "Please also refer to the documentation for alternative solver options:\n",
      "    https://scikit-learn.org/stable/modules/linear_model.html#logistic-regression\n",
      "  n_iter_i = _check_optimize_result(\n"
     ]
    }
   ],
   "source": [
    "from sklearn.linear_model import LogisticRegression\n",
    "\n",
    "# Increase max_iter to 500\n",
    "logistic_model = LogisticRegression(random_state=42, max_iter=500)\n",
    "logistic_model.fit(X_train, y_train)\n",
    "\n",
    "print(\"Logistic Regression training complete after increasing max_iter.\")\n"
   ]
  },
  {
   "cell_type": "code",
   "execution_count": 22,
   "id": "96ff8bcc-fcad-4b4d-99d8-813c2be4276a",
   "metadata": {},
   "outputs": [
    {
     "data": {
      "text/html": [
       "<style>#sk-container-id-1 {\n",
       "  /* Definition of color scheme common for light and dark mode */\n",
       "  --sklearn-color-text: black;\n",
       "  --sklearn-color-line: gray;\n",
       "  /* Definition of color scheme for unfitted estimators */\n",
       "  --sklearn-color-unfitted-level-0: #fff5e6;\n",
       "  --sklearn-color-unfitted-level-1: #f6e4d2;\n",
       "  --sklearn-color-unfitted-level-2: #ffe0b3;\n",
       "  --sklearn-color-unfitted-level-3: chocolate;\n",
       "  /* Definition of color scheme for fitted estimators */\n",
       "  --sklearn-color-fitted-level-0: #f0f8ff;\n",
       "  --sklearn-color-fitted-level-1: #d4ebff;\n",
       "  --sklearn-color-fitted-level-2: #b3dbfd;\n",
       "  --sklearn-color-fitted-level-3: cornflowerblue;\n",
       "\n",
       "  /* Specific color for light theme */\n",
       "  --sklearn-color-text-on-default-background: var(--sg-text-color, var(--theme-code-foreground, var(--jp-content-font-color1, black)));\n",
       "  --sklearn-color-background: var(--sg-background-color, var(--theme-background, var(--jp-layout-color0, white)));\n",
       "  --sklearn-color-border-box: var(--sg-text-color, var(--theme-code-foreground, var(--jp-content-font-color1, black)));\n",
       "  --sklearn-color-icon: #696969;\n",
       "\n",
       "  @media (prefers-color-scheme: dark) {\n",
       "    /* Redefinition of color scheme for dark theme */\n",
       "    --sklearn-color-text-on-default-background: var(--sg-text-color, var(--theme-code-foreground, var(--jp-content-font-color1, white)));\n",
       "    --sklearn-color-background: var(--sg-background-color, var(--theme-background, var(--jp-layout-color0, #111)));\n",
       "    --sklearn-color-border-box: var(--sg-text-color, var(--theme-code-foreground, var(--jp-content-font-color1, white)));\n",
       "    --sklearn-color-icon: #878787;\n",
       "  }\n",
       "}\n",
       "\n",
       "#sk-container-id-1 {\n",
       "  color: var(--sklearn-color-text);\n",
       "}\n",
       "\n",
       "#sk-container-id-1 pre {\n",
       "  padding: 0;\n",
       "}\n",
       "\n",
       "#sk-container-id-1 input.sk-hidden--visually {\n",
       "  border: 0;\n",
       "  clip: rect(1px 1px 1px 1px);\n",
       "  clip: rect(1px, 1px, 1px, 1px);\n",
       "  height: 1px;\n",
       "  margin: -1px;\n",
       "  overflow: hidden;\n",
       "  padding: 0;\n",
       "  position: absolute;\n",
       "  width: 1px;\n",
       "}\n",
       "\n",
       "#sk-container-id-1 div.sk-dashed-wrapped {\n",
       "  border: 1px dashed var(--sklearn-color-line);\n",
       "  margin: 0 0.4em 0.5em 0.4em;\n",
       "  box-sizing: border-box;\n",
       "  padding-bottom: 0.4em;\n",
       "  background-color: var(--sklearn-color-background);\n",
       "}\n",
       "\n",
       "#sk-container-id-1 div.sk-container {\n",
       "  /* jupyter's `normalize.less` sets `[hidden] { display: none; }`\n",
       "     but bootstrap.min.css set `[hidden] { display: none !important; }`\n",
       "     so we also need the `!important` here to be able to override the\n",
       "     default hidden behavior on the sphinx rendered scikit-learn.org.\n",
       "     See: https://github.com/scikit-learn/scikit-learn/issues/21755 */\n",
       "  display: inline-block !important;\n",
       "  position: relative;\n",
       "}\n",
       "\n",
       "#sk-container-id-1 div.sk-text-repr-fallback {\n",
       "  display: none;\n",
       "}\n",
       "\n",
       "div.sk-parallel-item,\n",
       "div.sk-serial,\n",
       "div.sk-item {\n",
       "  /* draw centered vertical line to link estimators */\n",
       "  background-image: linear-gradient(var(--sklearn-color-text-on-default-background), var(--sklearn-color-text-on-default-background));\n",
       "  background-size: 2px 100%;\n",
       "  background-repeat: no-repeat;\n",
       "  background-position: center center;\n",
       "}\n",
       "\n",
       "/* Parallel-specific style estimator block */\n",
       "\n",
       "#sk-container-id-1 div.sk-parallel-item::after {\n",
       "  content: \"\";\n",
       "  width: 100%;\n",
       "  border-bottom: 2px solid var(--sklearn-color-text-on-default-background);\n",
       "  flex-grow: 1;\n",
       "}\n",
       "\n",
       "#sk-container-id-1 div.sk-parallel {\n",
       "  display: flex;\n",
       "  align-items: stretch;\n",
       "  justify-content: center;\n",
       "  background-color: var(--sklearn-color-background);\n",
       "  position: relative;\n",
       "}\n",
       "\n",
       "#sk-container-id-1 div.sk-parallel-item {\n",
       "  display: flex;\n",
       "  flex-direction: column;\n",
       "}\n",
       "\n",
       "#sk-container-id-1 div.sk-parallel-item:first-child::after {\n",
       "  align-self: flex-end;\n",
       "  width: 50%;\n",
       "}\n",
       "\n",
       "#sk-container-id-1 div.sk-parallel-item:last-child::after {\n",
       "  align-self: flex-start;\n",
       "  width: 50%;\n",
       "}\n",
       "\n",
       "#sk-container-id-1 div.sk-parallel-item:only-child::after {\n",
       "  width: 0;\n",
       "}\n",
       "\n",
       "/* Serial-specific style estimator block */\n",
       "\n",
       "#sk-container-id-1 div.sk-serial {\n",
       "  display: flex;\n",
       "  flex-direction: column;\n",
       "  align-items: center;\n",
       "  background-color: var(--sklearn-color-background);\n",
       "  padding-right: 1em;\n",
       "  padding-left: 1em;\n",
       "}\n",
       "\n",
       "\n",
       "/* Toggleable style: style used for estimator/Pipeline/ColumnTransformer box that is\n",
       "clickable and can be expanded/collapsed.\n",
       "- Pipeline and ColumnTransformer use this feature and define the default style\n",
       "- Estimators will overwrite some part of the style using the `sk-estimator` class\n",
       "*/\n",
       "\n",
       "/* Pipeline and ColumnTransformer style (default) */\n",
       "\n",
       "#sk-container-id-1 div.sk-toggleable {\n",
       "  /* Default theme specific background. It is overwritten whether we have a\n",
       "  specific estimator or a Pipeline/ColumnTransformer */\n",
       "  background-color: var(--sklearn-color-background);\n",
       "}\n",
       "\n",
       "/* Toggleable label */\n",
       "#sk-container-id-1 label.sk-toggleable__label {\n",
       "  cursor: pointer;\n",
       "  display: block;\n",
       "  width: 100%;\n",
       "  margin-bottom: 0;\n",
       "  padding: 0.5em;\n",
       "  box-sizing: border-box;\n",
       "  text-align: center;\n",
       "}\n",
       "\n",
       "#sk-container-id-1 label.sk-toggleable__label-arrow:before {\n",
       "  /* Arrow on the left of the label */\n",
       "  content: \"▸\";\n",
       "  float: left;\n",
       "  margin-right: 0.25em;\n",
       "  color: var(--sklearn-color-icon);\n",
       "}\n",
       "\n",
       "#sk-container-id-1 label.sk-toggleable__label-arrow:hover:before {\n",
       "  color: var(--sklearn-color-text);\n",
       "}\n",
       "\n",
       "/* Toggleable content - dropdown */\n",
       "\n",
       "#sk-container-id-1 div.sk-toggleable__content {\n",
       "  max-height: 0;\n",
       "  max-width: 0;\n",
       "  overflow: hidden;\n",
       "  text-align: left;\n",
       "  /* unfitted */\n",
       "  background-color: var(--sklearn-color-unfitted-level-0);\n",
       "}\n",
       "\n",
       "#sk-container-id-1 div.sk-toggleable__content.fitted {\n",
       "  /* fitted */\n",
       "  background-color: var(--sklearn-color-fitted-level-0);\n",
       "}\n",
       "\n",
       "#sk-container-id-1 div.sk-toggleable__content pre {\n",
       "  margin: 0.2em;\n",
       "  border-radius: 0.25em;\n",
       "  color: var(--sklearn-color-text);\n",
       "  /* unfitted */\n",
       "  background-color: var(--sklearn-color-unfitted-level-0);\n",
       "}\n",
       "\n",
       "#sk-container-id-1 div.sk-toggleable__content.fitted pre {\n",
       "  /* unfitted */\n",
       "  background-color: var(--sklearn-color-fitted-level-0);\n",
       "}\n",
       "\n",
       "#sk-container-id-1 input.sk-toggleable__control:checked~div.sk-toggleable__content {\n",
       "  /* Expand drop-down */\n",
       "  max-height: 200px;\n",
       "  max-width: 100%;\n",
       "  overflow: auto;\n",
       "}\n",
       "\n",
       "#sk-container-id-1 input.sk-toggleable__control:checked~label.sk-toggleable__label-arrow:before {\n",
       "  content: \"▾\";\n",
       "}\n",
       "\n",
       "/* Pipeline/ColumnTransformer-specific style */\n",
       "\n",
       "#sk-container-id-1 div.sk-label input.sk-toggleable__control:checked~label.sk-toggleable__label {\n",
       "  color: var(--sklearn-color-text);\n",
       "  background-color: var(--sklearn-color-unfitted-level-2);\n",
       "}\n",
       "\n",
       "#sk-container-id-1 div.sk-label.fitted input.sk-toggleable__control:checked~label.sk-toggleable__label {\n",
       "  background-color: var(--sklearn-color-fitted-level-2);\n",
       "}\n",
       "\n",
       "/* Estimator-specific style */\n",
       "\n",
       "/* Colorize estimator box */\n",
       "#sk-container-id-1 div.sk-estimator input.sk-toggleable__control:checked~label.sk-toggleable__label {\n",
       "  /* unfitted */\n",
       "  background-color: var(--sklearn-color-unfitted-level-2);\n",
       "}\n",
       "\n",
       "#sk-container-id-1 div.sk-estimator.fitted input.sk-toggleable__control:checked~label.sk-toggleable__label {\n",
       "  /* fitted */\n",
       "  background-color: var(--sklearn-color-fitted-level-2);\n",
       "}\n",
       "\n",
       "#sk-container-id-1 div.sk-label label.sk-toggleable__label,\n",
       "#sk-container-id-1 div.sk-label label {\n",
       "  /* The background is the default theme color */\n",
       "  color: var(--sklearn-color-text-on-default-background);\n",
       "}\n",
       "\n",
       "/* On hover, darken the color of the background */\n",
       "#sk-container-id-1 div.sk-label:hover label.sk-toggleable__label {\n",
       "  color: var(--sklearn-color-text);\n",
       "  background-color: var(--sklearn-color-unfitted-level-2);\n",
       "}\n",
       "\n",
       "/* Label box, darken color on hover, fitted */\n",
       "#sk-container-id-1 div.sk-label.fitted:hover label.sk-toggleable__label.fitted {\n",
       "  color: var(--sklearn-color-text);\n",
       "  background-color: var(--sklearn-color-fitted-level-2);\n",
       "}\n",
       "\n",
       "/* Estimator label */\n",
       "\n",
       "#sk-container-id-1 div.sk-label label {\n",
       "  font-family: monospace;\n",
       "  font-weight: bold;\n",
       "  display: inline-block;\n",
       "  line-height: 1.2em;\n",
       "}\n",
       "\n",
       "#sk-container-id-1 div.sk-label-container {\n",
       "  text-align: center;\n",
       "}\n",
       "\n",
       "/* Estimator-specific */\n",
       "#sk-container-id-1 div.sk-estimator {\n",
       "  font-family: monospace;\n",
       "  border: 1px dotted var(--sklearn-color-border-box);\n",
       "  border-radius: 0.25em;\n",
       "  box-sizing: border-box;\n",
       "  margin-bottom: 0.5em;\n",
       "  /* unfitted */\n",
       "  background-color: var(--sklearn-color-unfitted-level-0);\n",
       "}\n",
       "\n",
       "#sk-container-id-1 div.sk-estimator.fitted {\n",
       "  /* fitted */\n",
       "  background-color: var(--sklearn-color-fitted-level-0);\n",
       "}\n",
       "\n",
       "/* on hover */\n",
       "#sk-container-id-1 div.sk-estimator:hover {\n",
       "  /* unfitted */\n",
       "  background-color: var(--sklearn-color-unfitted-level-2);\n",
       "}\n",
       "\n",
       "#sk-container-id-1 div.sk-estimator.fitted:hover {\n",
       "  /* fitted */\n",
       "  background-color: var(--sklearn-color-fitted-level-2);\n",
       "}\n",
       "\n",
       "/* Specification for estimator info (e.g. \"i\" and \"?\") */\n",
       "\n",
       "/* Common style for \"i\" and \"?\" */\n",
       "\n",
       ".sk-estimator-doc-link,\n",
       "a:link.sk-estimator-doc-link,\n",
       "a:visited.sk-estimator-doc-link {\n",
       "  float: right;\n",
       "  font-size: smaller;\n",
       "  line-height: 1em;\n",
       "  font-family: monospace;\n",
       "  background-color: var(--sklearn-color-background);\n",
       "  border-radius: 1em;\n",
       "  height: 1em;\n",
       "  width: 1em;\n",
       "  text-decoration: none !important;\n",
       "  margin-left: 1ex;\n",
       "  /* unfitted */\n",
       "  border: var(--sklearn-color-unfitted-level-1) 1pt solid;\n",
       "  color: var(--sklearn-color-unfitted-level-1);\n",
       "}\n",
       "\n",
       ".sk-estimator-doc-link.fitted,\n",
       "a:link.sk-estimator-doc-link.fitted,\n",
       "a:visited.sk-estimator-doc-link.fitted {\n",
       "  /* fitted */\n",
       "  border: var(--sklearn-color-fitted-level-1) 1pt solid;\n",
       "  color: var(--sklearn-color-fitted-level-1);\n",
       "}\n",
       "\n",
       "/* On hover */\n",
       "div.sk-estimator:hover .sk-estimator-doc-link:hover,\n",
       ".sk-estimator-doc-link:hover,\n",
       "div.sk-label-container:hover .sk-estimator-doc-link:hover,\n",
       ".sk-estimator-doc-link:hover {\n",
       "  /* unfitted */\n",
       "  background-color: var(--sklearn-color-unfitted-level-3);\n",
       "  color: var(--sklearn-color-background);\n",
       "  text-decoration: none;\n",
       "}\n",
       "\n",
       "div.sk-estimator.fitted:hover .sk-estimator-doc-link.fitted:hover,\n",
       ".sk-estimator-doc-link.fitted:hover,\n",
       "div.sk-label-container:hover .sk-estimator-doc-link.fitted:hover,\n",
       ".sk-estimator-doc-link.fitted:hover {\n",
       "  /* fitted */\n",
       "  background-color: var(--sklearn-color-fitted-level-3);\n",
       "  color: var(--sklearn-color-background);\n",
       "  text-decoration: none;\n",
       "}\n",
       "\n",
       "/* Span, style for the box shown on hovering the info icon */\n",
       ".sk-estimator-doc-link span {\n",
       "  display: none;\n",
       "  z-index: 9999;\n",
       "  position: relative;\n",
       "  font-weight: normal;\n",
       "  right: .2ex;\n",
       "  padding: .5ex;\n",
       "  margin: .5ex;\n",
       "  width: min-content;\n",
       "  min-width: 20ex;\n",
       "  max-width: 50ex;\n",
       "  color: var(--sklearn-color-text);\n",
       "  box-shadow: 2pt 2pt 4pt #999;\n",
       "  /* unfitted */\n",
       "  background: var(--sklearn-color-unfitted-level-0);\n",
       "  border: .5pt solid var(--sklearn-color-unfitted-level-3);\n",
       "}\n",
       "\n",
       ".sk-estimator-doc-link.fitted span {\n",
       "  /* fitted */\n",
       "  background: var(--sklearn-color-fitted-level-0);\n",
       "  border: var(--sklearn-color-fitted-level-3);\n",
       "}\n",
       "\n",
       ".sk-estimator-doc-link:hover span {\n",
       "  display: block;\n",
       "}\n",
       "\n",
       "/* \"?\"-specific style due to the `<a>` HTML tag */\n",
       "\n",
       "#sk-container-id-1 a.estimator_doc_link {\n",
       "  float: right;\n",
       "  font-size: 1rem;\n",
       "  line-height: 1em;\n",
       "  font-family: monospace;\n",
       "  background-color: var(--sklearn-color-background);\n",
       "  border-radius: 1rem;\n",
       "  height: 1rem;\n",
       "  width: 1rem;\n",
       "  text-decoration: none;\n",
       "  /* unfitted */\n",
       "  color: var(--sklearn-color-unfitted-level-1);\n",
       "  border: var(--sklearn-color-unfitted-level-1) 1pt solid;\n",
       "}\n",
       "\n",
       "#sk-container-id-1 a.estimator_doc_link.fitted {\n",
       "  /* fitted */\n",
       "  border: var(--sklearn-color-fitted-level-1) 1pt solid;\n",
       "  color: var(--sklearn-color-fitted-level-1);\n",
       "}\n",
       "\n",
       "/* On hover */\n",
       "#sk-container-id-1 a.estimator_doc_link:hover {\n",
       "  /* unfitted */\n",
       "  background-color: var(--sklearn-color-unfitted-level-3);\n",
       "  color: var(--sklearn-color-background);\n",
       "  text-decoration: none;\n",
       "}\n",
       "\n",
       "#sk-container-id-1 a.estimator_doc_link.fitted:hover {\n",
       "  /* fitted */\n",
       "  background-color: var(--sklearn-color-fitted-level-3);\n",
       "}\n",
       "</style><div id=\"sk-container-id-1\" class=\"sk-top-container\"><div class=\"sk-text-repr-fallback\"><pre>LogisticRegression(max_iter=1000, random_state=42)</pre><b>In a Jupyter environment, please rerun this cell to show the HTML representation or trust the notebook. <br />On GitHub, the HTML representation is unable to render, please try loading this page with nbviewer.org.</b></div><div class=\"sk-container\" hidden><div class=\"sk-item\"><div class=\"sk-estimator fitted sk-toggleable\"><input class=\"sk-toggleable__control sk-hidden--visually\" id=\"sk-estimator-id-1\" type=\"checkbox\" checked><label for=\"sk-estimator-id-1\" class=\"sk-toggleable__label fitted sk-toggleable__label-arrow fitted\">&nbsp;&nbsp;LogisticRegression<a class=\"sk-estimator-doc-link fitted\" rel=\"noreferrer\" target=\"_blank\" href=\"https://scikit-learn.org/1.5/modules/generated/sklearn.linear_model.LogisticRegression.html\">?<span>Documentation for LogisticRegression</span></a><span class=\"sk-estimator-doc-link fitted\">i<span>Fitted</span></span></label><div class=\"sk-toggleable__content fitted\"><pre>LogisticRegression(max_iter=1000, random_state=42)</pre></div> </div></div></div></div>"
      ],
      "text/plain": [
       "LogisticRegression(max_iter=1000, random_state=42)"
      ]
     },
     "execution_count": 22,
     "metadata": {},
     "output_type": "execute_result"
    }
   ],
   "source": [
    "logistic_model = LogisticRegression(random_state=42, max_iter=1000)\n",
    "logistic_model.fit(X_train, y_train)\n"
   ]
  },
  {
   "cell_type": "code",
   "execution_count": 23,
   "id": "18b3e20d-a41a-4cc1-8c9e-4382a1f8f616",
   "metadata": {},
   "outputs": [],
   "source": [
    "# Predict class labels\n",
    "y_pred_logistic = logistic_model.predict(X_test)\n",
    "\n",
    "# Predict probabilities for ROC-AUC calculation\n",
    "y_pred_prob_logistic = logistic_model.predict_proba(X_test)[:, 1]\n"
   ]
  },
  {
   "cell_type": "code",
   "execution_count": 24,
   "id": "d11e1ff4-73aa-4ce2-9c61-d623f9e3dbe6",
   "metadata": {},
   "outputs": [
    {
     "name": "stdout",
     "output_type": "stream",
     "text": [
      "Classification Report (Logistic Regression):\n",
      "               precision    recall  f1-score   support\n",
      "\n",
      "           0       0.61      0.60      0.60    128385\n",
      "           1       0.61      0.62      0.61    129197\n",
      "\n",
      "    accuracy                           0.61    257582\n",
      "   macro avg       0.61      0.61      0.61    257582\n",
      "weighted avg       0.61      0.61      0.61    257582\n",
      "\n"
     ]
    }
   ],
   "source": [
    "from sklearn.metrics import classification_report\n",
    "\n",
    "# Print classification report\n",
    "print(\"Classification Report (Logistic Regression):\\n\", classification_report(y_test, y_pred_logistic))\n"
   ]
  },
  {
   "cell_type": "code",
   "execution_count": 25,
   "id": "e5cc5476-86ba-4152-b6cd-fa482d5d6aa7",
   "metadata": {},
   "outputs": [
    {
     "name": "stdout",
     "output_type": "stream",
     "text": [
      "Confusion Matrix:\n",
      " [[76545 51840]\n",
      " [48923 80274]]\n"
     ]
    }
   ],
   "source": [
    "from sklearn.metrics import confusion_matrix\n",
    "\n",
    "# Confusion matrix\n",
    "conf_matrix = confusion_matrix(y_test, y_pred_logistic)\n",
    "print(\"Confusion Matrix:\\n\", conf_matrix)\n"
   ]
  },
  {
   "cell_type": "code",
   "execution_count": 26,
   "id": "61bf9bcb-edaa-45cc-8219-e843efe722af",
   "metadata": {},
   "outputs": [
    {
     "data": {
      "image/png": "[encoded data removed]",
      "text/plain": [
       "<Figure size 640x480 with 2 Axes>"
      ]
     },
     "metadata": {},
     "output_type": "display_data"
    }
   ],
   "source": [
    "# Heatmap for confusion matrix\n",
    "sns.heatmap(conf_matrix, annot=True, fmt=\"d\", cmap=\"Blues\")\n",
    "plt.title(\"Confusion Matrix (Logistic Regression)\")\n",
    "plt.xlabel(\"Predicted\")\n",
    "plt.ylabel(\"Actual\")\n",
    "plt.show()\n"
   ]
  },
  {
   "cell_type": "code",
   "execution_count": 27,
   "id": "17fdf036-f7a5-495f-9624-c69fb928fa6e",
   "metadata": {},
   "outputs": [
    {
     "name": "stdout",
     "output_type": "stream",
     "text": [
      "ROC-AUC Score (Logistic Regression): 0.6567553846855143\n"
     ]
    }
   ],
   "source": [
    "from sklearn.metrics import roc_auc_score\n",
    "\n",
    "# Calculate ROC-AUC score\n",
    "roc_auc_logistic = roc_auc_score(y_test, y_pred_prob_logistic)\n",
    "print(\"ROC-AUC Score (Logistic Regression):\", roc_auc_logistic)\n"
   ]
  },
  {
   "cell_type": "markdown",
   "id": "5e8da329-998d-4fae-b425-00e19d9ad38d",
   "metadata": {},
   "source": [
    "# Random Forest Classifier"
   ]
  },
  {
   "cell_type": "code",
   "execution_count": 29,
   "id": "5ebaf0c5-5447-495a-803e-53228d9b0aab",
   "metadata": {},
   "outputs": [],
   "source": [
    "from sklearn.ensemble import RandomForestClassifier\n",
    "from sklearn.metrics import classification_report, confusion_matrix, roc_auc_score\n"
   ]
  },
  {
   "cell_type": "code",
   "execution_count": 64,
   "id": "92dd3cf9-4ae6-4014-8bf0-0c32f7189bbe",
   "metadata": {},
   "outputs": [
    {
     "name": "stdout",
     "output_type": "stream",
     "text": [
      "Random Forest training complete.\n"
     ]
    }
   ],
   "source": [
    "# Initialize the Random Forest model\n",
    "rf_model = RandomForestClassifier(random_state=42)\n",
    "\n",
    "# Train the model\n",
    "rf_model.fit(X_train, y_train)\n",
    "\n",
    "print(\"Random Forest training complete.\")\n"
   ]
  },
  {
   "cell_type": "code",
   "execution_count": 70,
   "id": "db8f26ec-9f6b-45d9-9fe4-825c20868fd7",
   "metadata": {},
   "outputs": [],
   "source": [
    "# Predict class labels\n",
    "y_pred_rf = rf_model.predict(X_test)\n",
    "\n",
    "# Predict probabilities for ROC-AUC calculation\n",
    "y_pred_prob_rf = rf_model.predict_proba(X_test)[:, 1]\n"
   ]
  },
  {
   "cell_type": "code",
   "execution_count": 72,
   "id": "8494a63c-c17a-4bc7-9bc7-d360e6ec9213",
   "metadata": {},
   "outputs": [
    {
     "name": "stdout",
     "output_type": "stream",
     "text": [
      "Classification Report (Random Forest):\n",
      "               precision    recall  f1-score   support\n",
      "\n",
      "           0       0.96      0.97      0.96    128385\n",
      "           1       0.97      0.96      0.96    129197\n",
      "\n",
      "    accuracy                           0.96    257582\n",
      "   macro avg       0.96      0.96      0.96    257582\n",
      "weighted avg       0.96      0.96      0.96    257582\n",
      "\n"
     ]
    }
   ],
   "source": [
    "# Classification report\n",
    "print(\"Classification Report (Random Forest):\\n\", classification_report(y_test, y_pred_rf))\n"
   ]
  },
  {
   "cell_type": "code",
   "execution_count": 74,
   "id": "80097c21-7874-4f3d-972a-d6e10022939c",
   "metadata": {},
   "outputs": [
    {
     "name": "stdout",
     "output_type": "stream",
     "text": [
      "Confusion Matrix:\n",
      " [[124582   3803]\n",
      " [  5469 123728]]\n"
     ]
    }
   ],
   "source": [
    "# Confusion matrix\n",
    "conf_matrix_rf = confusion_matrix(y_test, y_pred_rf)\n",
    "print(\"Confusion Matrix:\\n\", conf_matrix_rf)\n"
   ]
  },
  {
   "cell_type": "code",
   "execution_count": 76,
   "id": "eb8dc050-ce40-4ea1-97a6-83cf71522770",
   "metadata": {},
   "outputs": [
    {
     "data": {
      "image/png": "[encoded data removed]",
      "text/plain": [
       "<Figure size 640x480 with 2 Axes>"
      ]
     },
     "metadata": {},
     "output_type": "display_data"
    }
   ],
   "source": [
    "import seaborn as sns\n",
    "import matplotlib.pyplot as plt\n",
    "\n",
    "# Heatmap for confusion matrix\n",
    "sns.heatmap(conf_matrix_rf, annot=True, fmt=\"d\", cmap=\"Blues\")\n",
    "plt.title(\"Confusion Matrix (Random Forest)\")\n",
    "plt.xlabel(\"Predicted\")\n",
    "plt.ylabel(\"Actual\")\n",
    "plt.show()\n"
   ]
  },
  {
   "cell_type": "code",
   "execution_count": 79,
   "id": "2d2722cb-8de8-48bc-bec9-29ce084f6acc",
   "metadata": {},
   "outputs": [
    {
     "name": "stdout",
     "output_type": "stream",
     "text": [
      "ROC-AUC Score (Random Forest): 0.9920328256270928\n"
     ]
    }
   ],
   "source": [
    "# Calculate ROC-AUC score\n",
    "roc_auc_rf = roc_auc_score(y_test, y_pred_prob_rf)\n",
    "print(\"ROC-AUC Score (Random Forest):\", roc_auc_rf)\n"
   ]
  },
  {
   "cell_type": "code",
   "execution_count": 81,
   "id": "62640e88-6f8b-4f7c-8cbb-6b4d8e011839",
   "metadata": {},
   "outputs": [
    {
     "data": {
      "image/png": "[encoded data removed]",
      "text/plain": [
       "<Figure size 1000x600 with 1 Axes>"
      ]
     },
     "metadata": {},
     "output_type": "display_data"
    }
   ],
   "source": [
    "# Get feature importance\n",
    "import numpy as np\n",
    "\n",
    "feature_importances = rf_model.feature_importances_\n",
    "sorted_indices = np.argsort(feature_importances)[::-1]\n",
    "\n",
    "# Visualize feature importance\n",
    "plt.figure(figsize=(10, 6))\n",
    "plt.bar(range(X_train.shape[1]), feature_importances[sorted_indices])\n",
    "plt.xticks(range(X_train.shape[1]), X_train.columns[sorted_indices], rotation=90)\n",
    "plt.title(\"Feature Importance (Random Forest)\")\n",
    "plt.show()\n"
   ]
  },
  {
   "cell_type": "markdown",
   "id": "25c8171b-f81f-4168-8586-8648e9f0fce7",
   "metadata": {},
   "source": [
    "# Comparision of Logistic Regression and Random Forest"
   ]
  },
  {
   "cell_type": "code",
   "execution_count": 84,
   "id": "275bfd84-2871-4dc3-ac7a-428368f0c1fa",
   "metadata": {},
   "outputs": [],
   "source": [
    "import pandas as pd\n",
    "from sklearn.metrics import accuracy_score, precision_score, recall_score, f1_score, roc_auc_score\n",
    "\n",
    "  \n"
   ]
  },
  {
   "cell_type": "code",
   "execution_count": 90,
   "id": "4d23ae39-8b3a-4090-8c4b-9f951fbae14a",
   "metadata": {},
   "outputs": [],
   "source": [
    "# Evaluate Logistic Regression\n",
    "logistic_metrics = {\n",
    "    \"Model\": \"Logistic Regression\",\n",
    "    \"Accuracy\": accuracy_score(y_test, y_pred_logistic),\n",
    "    \"Precision\": precision_score(y_test, y_pred_logistic),\n",
    "    \"Recall\": recall_score(y_test, y_pred_logistic),\n",
    "    \"F1-Score\": f1_score(y_test, y_pred_logistic),\n",
    "    \"ROC-AUC\": roc_auc_score(y_test, y_pred_prob_logistic),\n",
    "}"
   ]
  },
  {
   "cell_type": "code",
   "execution_count": 92,
   "id": "8df6bc59-0a02-4927-8283-3b853bdbc36d",
   "metadata": {},
   "outputs": [],
   "source": [
    "# Evaluate Random Forest\n",
    "rf_metrics = {\n",
    "    \"Model\": \"Random Forest\",\n",
    "    \"Accuracy\": accuracy_score(y_test, y_pred_rf),\n",
    "    \"Precision\": precision_score(y_test, y_pred_rf),\n",
    "    \"Recall\": recall_score(y_test, y_pred_rf),\n",
    "    \"F1-Score\": f1_score(y_test, y_pred_rf),\n",
    "    \"ROC-AUC\": roc_auc_score(y_test, y_pred_prob_rf),\n",
    "}"
   ]
  },
  {
   "cell_type": "code",
   "execution_count": 94,
   "id": "d61fa5f1-0f2d-4858-81aa-53a60c4cdcb4",
   "metadata": {},
   "outputs": [],
   "source": [
    "# Combine Results into a DataFrame\n",
    "comparison_df = pd.DataFrame([logistic_metrics, rf_metrics])"
   ]
  },
  {
   "cell_type": "code",
   "execution_count": 96,
   "id": "58668792-9204-4b21-a294-503717217ba4",
   "metadata": {},
   "outputs": [
    {
     "name": "stdout",
     "output_type": "stream",
     "text": [
      "                 Model  Accuracy  Precision    Recall  F1-Score   ROC-AUC\n",
      "0  Logistic Regression  0.608812   0.607612  0.621330  0.614394  0.656755\n",
      "1        Random Forest  0.964004   0.970180  0.957669  0.963884  0.992033\n"
     ]
    }
   ],
   "source": [
    "# Display the comparison\n",
    "print(comparison_df)"
   ]
  },
  {
   "cell_type": "markdown",
   "id": "6a9de814-30a9-4db3-a1ab-98d5dcca7d08",
   "metadata": {},
   "source": [
    "The project successfully achieved its goal of building a predictive model for insurance claims, providing actionable insights for risk management and decision-making. The Random Forest model stands out as the best-performing approach and is ready for deployment or further enhancement."
   ]
  },
  {
   "cell_type": "code",
   "execution_count": null,
   "id": "fcd4fa32-0072-4cc1-b995-a6ce3fe4c598",
   "metadata": {},
   "outputs": [],
   "source": []
  },
  {
   "cell_type": "code",
   "execution_count": null,
   "id": "5bf6c3f3-b6ea-499f-9c33-b744829e7aed",
   "metadata": {},
   "outputs": [],
   "source": [
    "\n"
   ]
  },
  {
   "cell_type": "code",
   "execution_count": 104,
   "id": "863af4cd-f456-4249-a29d-b617cbc7afde",
   "metadata": {},
   "outputs": [
    {
     "name": "stdout",
     "output_type": "stream",
     "text": [
      "Model comparison saved as 'model_comparison.csv'.\n"
     ]
    }
   ],
   "source": [
    "# Save the DataFrame as a CSV\n",
    "comparison_df.to_csv(\"model_comparison.csv\", index=False)\n",
    "print(\"Model comparison saved as 'model_comparison.csv'.\")\n"
   ]
  },
  {
   "cell_type": "code",
   "execution_count": 106,
   "id": "d9f689ec-6fec-4fea-92ad-5d1f538e418c",
   "metadata": {},
   "outputs": [
    {
     "name": "stdout",
     "output_type": "stream",
     "text": [
      "Feature importance data saved as 'feature_importances.csv'.\n"
     ]
    }
   ],
   "source": [
    "# Create a DataFrame for Feature Importance\n",
    "feature_importances_df = pd.DataFrame({\n",
    "    \"Feature\": X_train.columns,\n",
    "    \"Importance\": rf_model.feature_importances_\n",
    "}).sort_values(by=\"Importance\", ascending=False)\n",
    "\n",
    "# Save the DataFrame as a CSV\n",
    "feature_importances_df.to_csv(\"feature_importances.csv\", index=False)\n",
    "print(\"Feature importance data saved as 'feature_importances.csv'.\")\n"
   ]
  },
  {
   "cell_type": "code",
   "execution_count": 110,
   "id": "bcbf6a2c-d7dc-4bc5-a4b6-361bae0ee89a",
   "metadata": {},
   "outputs": [
    {
     "name": "stdout",
     "output_type": "stream",
     "text": [
      "Confusion matrix saved as 'confusion_matrix_rf.png'.\n"
     ]
    },
    {
     "data": {
      "image/png": "[encoded data removed]",
      "text/plain": [
       "<Figure size 600x400 with 2 Axes>"
      ]
     },
     "metadata": {},
     "output_type": "display_data"
    }
   ],
   "source": [
    "# Generate the Confusion Matrix\n",
    "conf_matrix_rf = confusion_matrix(y_test, y_pred_rf)\n",
    "\n",
    "# Plot the Confusion Matrix\n",
    "plt.figure(figsize=(6, 4))\n",
    "sns.heatmap(conf_matrix_rf, annot=True, fmt=\"d\", cmap=\"Blues\")\n",
    "plt.title(\"Confusion Matrix (Random Forest)\")\n",
    "plt.xlabel(\"Predicted\")\n",
    "plt.ylabel(\"Actual\")\n",
    "\n",
    "# Save the Plot as an Image\n",
    "plt.savefig(\"confusion_matrix_rf.png\")\n",
    "print(\"Confusion matrix saved as 'confusion_matrix_rf.png'.\")\n"
   ]
  },
  {
   "cell_type": "code",
   "execution_count": 112,
   "id": "d7c554d4-4950-4b05-8601-d7ad48f3bb7c",
   "metadata": {},
   "outputs": [
    {
     "name": "stdout",
     "output_type": "stream",
     "text": [
      "Cleaned dataset saved as 'cleaned_dataset.csv'.\n"
     ]
    }
   ],
   "source": [
    "# Save the cleaned dataset as a CSV\n",
    "data.to_csv(\"cleaned_dataset.csv\", index=False)\n",
    "print(\"Cleaned dataset saved as 'cleaned_dataset.csv'.\")\n"
   ]
  },
  {
   "cell_type": "code",
   "execution_count": 114,
   "id": "c0908d76-6a4f-461e-b302-1a60ff37beac",
   "metadata": {},
   "outputs": [
    {
     "name": "stdout",
     "output_type": "stream",
     "text": [
      "Current Working Directory: C:\\Users\\lenovo\\Desktop\\Data Analysis Dataset\\PROJECT FILES\n"
     ]
    }
   ],
   "source": [
    "import os\n",
    "\n",
    "# Get the current working directory\n",
    "current_directory = os.getcwd()\n",
    "print(\"Current Working Directory:\", current_directory)\n"
   ]
  },
  {
   "cell_type": "code",
   "execution_count": 118,
   "id": "3f8a2a10-eb79-478e-95a8-5c1ca11fad5a",
   "metadata": {},
   "outputs": [
    {
     "data": {
      "text/plain": [
       "<Figure size 640x480 with 0 Axes>"
      ]
     },
     "metadata": {},
     "output_type": "display_data"
    }
   ],
   "source": [
    "# Set the directory where you want to save the files\n",
    "save_directory = r\"C:\\Users\\lenovo\\Desktop\\Data Analysis Dataset\\PROJECT FILES\"\n",
    "\n",
    "# Save Model Comparison CSV\n",
    "comparison_df.to_csv(os.path.join(save_directory, \"model_comparison.csv\"), index=False)\n",
    "\n",
    "# Save Feature Importance CSV\n",
    "feature_importances_df.to_csv(os.path.join(save_directory, \"feature_importances.csv\"), index=False)\n",
    "\n",
    "# Save Confusion Matrix Image\n",
    "conf_matrix_path = os.path.join(save_directory, \"confusion_matrix_rf.png\")\n",
    "plt.savefig(conf_matrix_path)\n"
   ]
  },
  {
   "cell_type": "code",
   "execution_count": 120,
   "id": "44851965-e677-4ca5-8cab-422e11cc145e",
   "metadata": {},
   "outputs": [
    {
     "name": "stdout",
     "output_type": "stream",
     "text": [
      "Files in Save Directory:\n",
      "['.ipynb_checkpoints', 'Bank Loan- SQL+EXCEL', 'cleaned_dataset.csv', 'confusion_matrix_rf.png', 'feature_importances.csv', 'Insurance Claims- SQL+ POWER BI', 'model_comparison.csv', 'Motor Insurance- Python+ML', 'Motor_Insurance.ipynb', 'SQLQuery1.sql']\n"
     ]
    }
   ],
   "source": [
    "# List all files in the save directory\n",
    "print(\"Files in Save Directory:\")\n",
    "print(os.listdir(save_directory))\n"
   ]
  },
  {
   "cell_type": "code",
   "execution_count": null,
   "id": "c2f79ff7-8956-4938-9520-fbf10cb1a9b1",
   "metadata": {},
   "outputs": [],
   "source": []
  }
 ],
 "metadata": {
  "kernelspec": {
   "display_name": "Python 3 (ipykernel)",
   "language": "python",
   "name": "python3"
  },
  "language_info": {
   "codemirror_mode": {
    "name": "ipython",
    "version": 3
   },
   "file_extension": ".py",
   "mimetype": "text/x-python",
   "name": "python",
   "nbconvert_exporter": "python",
   "pygments_lexer": "ipython3",
   "version": "3.12.7"
  }
 },
 "nbformat": 4,
 "nbformat_minor": 5
}
